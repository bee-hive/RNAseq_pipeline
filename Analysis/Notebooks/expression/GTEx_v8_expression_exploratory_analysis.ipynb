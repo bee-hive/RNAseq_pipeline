{
 "cells": [
  {
   "cell_type": "markdown",
   "metadata": {},
   "source": [
    "# GTEx v8 RNA-seq data processing for eQTLs : Exploratory analysis\n",
    "\n",
    "This notebook outlines how the expression matrices are handled prior to the eQTL mapping, and also include some exploratory analysis on the data. In particular, we focus on hidden structures within the expression data, and how we correct for the relevant covariates, both known and inferred.\n",
    "\n",
    "On Della, the RNA-seq project directory is located at:\n",
    "\n",
    "<code>/tigress/BEE/RNAseq/</code>"
   ]
  },
  {
   "cell_type": "code",
   "execution_count": 2,
   "metadata": {
    "collapsed": true
   },
   "outputs": [],
   "source": [
    "%%bash\n",
    "# export proj='/tigress/BEE/RNAseq/'\n",
    "# The local directory used for development and Github commits are located at:\n",
    "export proj='/Users/brian_jo/Desktop/Project/RNAseq_pipeline/'"
   ]
  },
  {
   "cell_type": "markdown",
   "metadata": {},
   "source": [
    "## Creating reference tables - samples, subjects and tissues\n",
    "\n",
    "I wrote a script that reads in the GTEx sample and subject-level annotation files, downloaded from dbGaP and located at:\n",
    "\n",
    "<code>/tigress/BEE/gtex/dbGaP-7716/57610/gtex/exchange/GTEx_phs000424/exchange/analysis_releases/GTEx_Analysis_2017-06-05_v8/sample_annotations/</code>\n",
    "\n",
    "and writing three tables that are organized at sample, subject and tissue levels:\n",
    "\n",
    "<code>/tigress/BEE/RNAseq/Data/Resources/gtex/tables/v8/</code>\n",
    "\n",
    "The code can be found at:\n",
    "\n",
    "<code>https://github.com/bee-hive/RNAseq_pipeline/blob/master/Scripts/misc/silver/v8_organize_tissues_reference_tables.R</code>"
   ]
  },
  {
   "cell_type": "code",
   "execution_count": null,
   "metadata": {
    "collapsed": true
   },
   "outputs": [],
   "source": [
    "%%bash\n",
    "\n",
    "Rscript $proj/Scripts/misc/silver/v8_organize_tissues_reference_tables.R"
   ]
  },
  {
   "cell_type": "code",
   "execution_count": 5,
   "metadata": {
    "collapsed": false
   },
   "outputs": [
    {
     "name": "stdout",
     "output_type": "stream",
     "text": [
      "Sample table\n",
      "SAMPID\tSMTSD\tSUBJID\tSEX\tRACE\tAGE\tBMI\ttissue_name\n",
      "GTEX-1117F-0226-SM-5GZZ7\tAdipose - Subcutaneous\tGTEX-1117F\t2\t2\t66\t32.12\tadiposesubcutaneous\n",
      "GTEX-1117F-0426-SM-5EGHI\tMuscle - Skeletal\tGTEX-1117F\t2\t2\t66\t32.12\tmuscleskeletal\n",
      "GTEX-1117F-0526-SM-5EGHJ\tArtery - Tibial\tGTEX-1117F\t2\t2\t66\t32.12\tarterytibial\n",
      "GTEX-1117F-0626-SM-5N9CS\tArtery - Coronary\tGTEX-1117F\t2\t2\t66\t32.12\tarterycoronary\n",
      "GTEX-1117F-0726-SM-5GIEN\tHeart - Atrial Appendage\tGTEX-1117F\t2\t2\t66\t32.12\theartatrialappendage\n",
      "GTEX-1117F-1326-SM-5EGHH\tAdipose - Visceral (Omentum)\tGTEX-1117F\t2\t2\t66\t32.12\tadiposevisceralomentum\n",
      "GTEX-1117F-2226-SM-5N9CH\tOvary\tGTEX-1117F\t2\t2\t66\t32.12\tovary\n",
      "GTEX-1117F-2426-SM-5EGGH\tUterus\tGTEX-1117F\t2\t2\t66\t32.12\tuterus\n",
      "GTEX-1117F-2526-SM-5GZY6\tVagina\tGTEX-1117F\t2\t2\t66\t32.12\tvagina\n",
      " \n",
      "Subject table\n",
      "SUBJID\tSEX\tAGE\tRACE\tETHNCTY\tBMI\tnum_samples\n",
      "GTEX-1117F\t2\t66\t2\t0\t32.12\t13\n",
      "GTEX-111CU\t1\t57\t3\t0\t33.57\t19\n",
      "GTEX-111FC\t1\t61\t3\t0\t25.06\t16\n",
      "GTEX-111VG\t1\t63\t3\t0\t29.53\t11\n",
      "GTEX-111YS\t1\t62\t3\t0\t30.78\t25\n",
      "GTEX-1122O\t2\t64\t3\t0\t32.76\t26\n",
      "GTEX-1128S\t2\t66\t3\t0\t25.82\t15\n",
      "GTEX-113IC\t1\t66\t2\t0\t26.96\t6\n",
      "GTEX-113JC\t2\t53\t3\t0\t27.99\t11\n",
      " \n",
      "Tissue table\n",
      "tissue_name\tSMTS\tSMUBRTRM\tnum_samples\n",
      "muscleskeletal\tMuscle\tgastrocnemius medialis\t803\n",
      "wholeblood\tBlood\tvenous blood\t755\n",
      "skinsunexposedlowerleg\tSkin\tlower leg skin\t701\n",
      "adiposesubcutaneous\tAdipose Tissue\tsubcutaneous adipose tissue\t663\n",
      "arterytibial\tBlood Vessel\ttibial artery\t663\n",
      "thyroid\tThyroid\tthyroid gland\t653\n",
      "nervetibial\tNerve\ttibial nerve\t620\n",
      "skinnotsunexposedsuprapubic\tSkin\tsuprapubic skin\t605\n",
      "lung\tLung\tupper lobe of left lung\t578\n",
      " \n",
      "Number of samples + 1\n",
      "   17396 /Users/brian_jo/Desktop/Project/RNAseq_pipeline/Data/Resources/gtex/tables/v8/sample_table.txt\n",
      " \n",
      "Number of subjects + 1\n",
      "     949 /Users/brian_jo/Desktop/Project/RNAseq_pipeline/Data/Resources/gtex/tables/v8/subject_table.txt\n",
      " \n",
      "Number of tissues + 1\n",
      "      55 /Users/brian_jo/Desktop/Project/RNAseq_pipeline/Data/Resources/gtex/tables/v8/tissue_table.txt\n"
     ]
    }
   ],
   "source": [
    "%%bash\n",
    "\n",
    "echo 'Sample table'\n",
    "head -n 10 $proj/Data/Resources/gtex/tables/v8/sample_table.txt\n",
    "echo ' '\n",
    "echo 'Subject table'\n",
    "head -n 10 $proj/Data/Resources/gtex/tables/v8/subject_table.txt\n",
    "echo ' '\n",
    "echo 'Tissue table'\n",
    "head -n 10 $proj/Data/Resources/gtex/tables/v8/tissue_table.txt\n",
    "echo ' '\n",
    "echo 'Number of samples + 1'\n",
    "wc -l $proj/Data/Resources/gtex/tables/v8/sample_table.txt\n",
    "echo ' '\n",
    "echo 'Number of subjects + 1'\n",
    "wc -l $proj/Data/Resources/gtex/tables/v8/subject_table.txt\n",
    "echo ' '\n",
    "echo 'Number of tissues + 1'\n",
    "wc -l $proj/Data/Resources/gtex/tables/v8/tissue_table.txt"
   ]
  },
  {
   "cell_type": "markdown",
   "metadata": {},
   "source": [
    "There are <b>17395</b> samples coming from <b>948</b> subjects, over <b>54</b> tissues - certainly an extensive RNA-seq dataset by today's standards."
   ]
  },
  {
   "cell_type": "markdown",
   "metadata": {},
   "source": [
    "## Organizing the GTEx gct expression matrices and normalizing them\n",
    "\n",
    "<code>Note: This part of the notebook is obsolete - we simply take the normalized version of the expression provided by the GTEx consortium.</code>\n",
    "\n",
    "The GTEx v8 expression gct files are also downloaded from dbGaP and are located at:\n",
    "\n",
    "<code>tigress/BEE/gtex/dbGaP-7716/56946/gtex/exchange/GTEx_phs000424/exchange/analysis_releases/GTEx_Analysis_2017-06-05_v8/rna_seq</code>\n",
    "\n",
    "We obtain the main gct files, and separate out by tissues first, for four sets of expression matrices that have been obtained using [RSEMv1.3.0](https://bmcbioinformatics.biomedcentral.com/articles/10.1186/1471-2105-12-323):\n",
    "\n",
    "- Gene TPM\n",
    "- Gene Counts\n",
    "- Transcript TPM\n",
    "- Transcript Counts\n",
    "\n",
    "The script for doing this is located at:\n",
    "\n",
    "<code>https://github.com/bee-hive/RNAseq_pipeline/blob/master/Scripts/misc/silver/v8_separate_expression_matrices.py</code>\n",
    "\n",
    "The wrapper script for the cluster:\n",
    "\n",
    "<code>https://github.com/bee-hive/RNAseq_pipeline/blob/master/Scripts/misc/silver/v8_separate_expression_matrices_wrapper.py</code>"
   ]
  },
  {
   "cell_type": "code",
   "execution_count": null,
   "metadata": {
    "collapsed": true
   },
   "outputs": [],
   "source": [
    "%%bash\n",
    "\n",
    "python $proj/Scripts/misc/silver/v8_separate_expression_matrices_wrapper.py"
   ]
  },
  {
   "cell_type": "markdown",
   "metadata": {},
   "source": [
    "As a result of running this, the separated expression matrices are deposited at:\n",
    "\n",
    "<code>/tigress/BEE/gtex/data/phenotype/expression/expression_matrices/v8/</code>\n",
    "\n",
    "I've organized the directory such that there are 5 subdirectories:\n",
    "\n",
    "- dbGaP - Copy of the original files downloaded from dbGaP\n",
    "- gene_list - List of Genes that are used for downstream analysis, after filtering\n",
    "- log_transform - Log-transformed version of the count matrices\n",
    "- quantile_norm - Quantile-normalized version of the TPM matrices\n",
    "- raw - Tissue-separated version of the dbGaP gct files\n",
    "\n",
    "The dbGaP gene matrices have <b>58219</b> genes, and the transcript matrices have <b>199324</b> transcripts."
   ]
  },
  {
   "cell_type": "markdown",
   "metadata": {},
   "source": [
    "The next step is normalization. The normalization script does the following:\n",
    "\n",
    "- Filter gene and transcript tables based on minimal gene expression - our threshold is at least 0.1 TPM for at least 10 individuals. This criteria only applies to genes, and in the transcript table, all transcripts that belong to the filtered gene list are included.\n",
    "- Quantile-normalize the TPM matrices. There are two types of QN procedure:\n",
    "\n",
    "<code>QN the entire expression profile (all samples, all genes, ties broken by averaging), and then QN for each gene (ties broken randomly)</code>\n",
    "\n",
    "<code>QN for each sample (ties broken by averaging), and then QN for each gene (ties broken randomly)</code>\n",
    "\n",
    "- Log-transform the Count matrices (Log2 transform the TPM values + 1, which maps 0 to 0 and 1 to 1)\n",
    "\n",
    "The script for doing this is located at:\n",
    "\n",
    "<code>https://github.com/bee-hive/RNAseq_pipeline/blob/master/Scripts/processing/silver/v8_normalize_matrices.py</code>\n",
    "\n",
    "The wrapper script for the cluster:\n",
    "\n",
    "<code>https://github.com/bee-hive/RNAseq_pipeline/blob/master/Scripts/processing/silver/v8_normalize_matrices_wrapper.py</code>"
   ]
  },
  {
   "cell_type": "code",
   "execution_count": null,
   "metadata": {
    "collapsed": true
   },
   "outputs": [],
   "source": [
    "%%bash\n",
    "\n",
    "python $proj/Scripts/processing/silver/v8_normalize_matrices_wrapper.py"
   ]
  },
  {
   "cell_type": "markdown",
   "metadata": {},
   "source": [
    "It is worth noting that in order to bring up the list of transcripts that belong to a gene, I used [GENCODE v.26](https://www.gencodegenes.org/releases/26lift37.html). The converted Python OrderedDict is saved at:\n",
    "\n",
    "<code>/tigress/BEE/RNAseq/Data/Resources/annotations/silver/gencode.v26.transcripts</code>\n",
    "\n",
    "- The resulting quantile-normalized TPM matrices are saved under the <code>quantile_norm</code> subdirectory, with the postfix <code>profile_norm.txt</code> meaning the first QN method, and <code>sample_norm.txt</code> meaning the second.\n",
    "- The resulting log-transformed Count matrices are saved under the <code>log_transform</code> subdirectory.\n",
    "- The filtered gene list and transcript list are saved under the <code>gene_list</code> subdirectory.\n"
   ]
  },
  {
   "cell_type": "markdown",
   "metadata": {
    "collapsed": true
   },
   "source": [
    "## Exploring various normalization techniques for expression matrices\n",
    "\n",
    "Now that we have the expression values in the quantile-normalized form, we can try out various factor analysis techniques that seek to find and correct for unknown factors in the expression profile, which will (hopefully) also include contributions from genotype PCs (roughly accounting for population structure) and other known covariates (other potential confounders).\n",
    "\n",
    "I will try out the following three methods:\n",
    "\n",
    "- [SFAMix - Sparse and Dense Factor Analysis](https://arxiv.org/abs/1310.4792) - the code can be downloaded at https://github.com/chuangao/SFAmix\n",
    "- [PEER - Probabilistic Estimation of Expression Residuals](https://www.ncbi.nlm.nih.gov/pubmed/22343431) - the code can be downloaded at https://github.com/PMBio/peer\n",
    "- [SVA - Surrogate Variable Analysis](http://journals.plos.org/plosgenetics/article?id=10.1371/journal.pgen.0030161) - The code is in the form of an [R package](https://www.bioconductor.org/packages/devel/bioc/vignettes/sva/inst/doc/sva.pdf)\n",
    "\n",
    "\n",
    "### SFAmix - output steps in increments of 50 until convergence (or 5000 steps, whichever comes first)"
   ]
  },
  {
   "cell_type": "code",
   "execution_count": null,
   "metadata": {
    "collapsed": true
   },
   "outputs": [],
   "source": [
    "%%bash\n",
    "\n",
    "python $proj/Scripts/processing/covariates_exploratory/v8_sfamix_incremental_wrapper.py"
   ]
  },
  {
   "cell_type": "markdown",
   "metadata": {},
   "source": [
    "The script for doing this is located at:\n",
    "\n",
    "<code>https://github.com/bee-hive/RNAseq_pipeline/blob/master/Scripts/processing/covariates_exploratory/v8_sfamix_incremental.R</code>\n",
    "\n",
    "The wrapper script for the cluster:\n",
    "\n",
    "<code>https://github.com/bee-hive/RNAseq_pipeline/blob/master/Scripts/processing/covariates_exploratory/v8_sfamix_incremental_wrapper.py</code>\n",
    "\n",
    "The outputs of this step can be found at:\n",
    "<code>\n",
    "/tigress/BEE/RNAseq/Output/processing/exploratory/v8/sfamix/GTEx_Analysis_v8/\n",
    "</code>"
   ]
  },
  {
   "cell_type": "code",
   "execution_count": null,
   "metadata": {
    "collapsed": true
   },
   "outputs": [],
   "source": []
  }
 ],
 "metadata": {
  "kernelspec": {
   "display_name": "Python 3",
   "language": "python",
   "name": "python3"
  },
  "language_info": {
   "codemirror_mode": {
    "name": "ipython",
    "version": 3
   },
   "file_extension": ".py",
   "mimetype": "text/x-python",
   "name": "python",
   "nbconvert_exporter": "python",
   "pygments_lexer": "ipython3",
   "version": "3.5.2"
  }
 },
 "nbformat": 4,
 "nbformat_minor": 0
}
